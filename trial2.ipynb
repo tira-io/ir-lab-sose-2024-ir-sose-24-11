{
 "cells": [
  {
   "cell_type": "code",
   "execution_count": 3,
   "metadata": {},
   "outputs": [
    {
     "ename": "KeyError",
     "evalue": "'ir-lab-sose-2024/ir-acl-anthology-20240504-training'",
     "output_type": "error",
     "traceback": [
      "\u001b[0;31m---------------------------------------------------------------------------\u001b[0m",
      "\u001b[0;31mKeyError\u001b[0m                                  Traceback (most recent call last)",
      "Cell \u001b[0;32mIn[3], line 10\u001b[0m\n\u001b[1;32m      8\u001b[0m tira \u001b[38;5;241m=\u001b[39m Client()\n\u001b[1;32m      9\u001b[0m dataset \u001b[38;5;241m=\u001b[39m \u001b[38;5;124m'\u001b[39m\u001b[38;5;124mirds:ir-lab-sose-2024/ir-acl-anthology-20240504-training\u001b[39m\u001b[38;5;124m'\u001b[39m\n\u001b[0;32m---> 10\u001b[0m pt_dataset \u001b[38;5;241m=\u001b[39m \u001b[43mpt\u001b[49m\u001b[38;5;241;43m.\u001b[39;49m\u001b[43mget_dataset\u001b[49m\u001b[43m(\u001b[49m\u001b[43mdataset\u001b[49m\u001b[43m)\u001b[49m\n\u001b[1;32m     12\u001b[0m extractor \u001b[38;5;241m=\u001b[39m tira\u001b[38;5;241m.\u001b[39mpt\u001b[38;5;241m.\u001b[39mtransform_documents(\u001b[38;5;124m'\u001b[39m\u001b[38;5;124mhttps://aclanthology.org/2023.findings-acl.581/\u001b[39m\u001b[38;5;124m'\u001b[39m, dataset)\n\u001b[1;32m     13\u001b[0m bm25 \u001b[38;5;241m=\u001b[39m tira\u001b[38;5;241m.\u001b[39mpt\u001b[38;5;241m.\u001b[39mfrom_retriever_submission(\u001b[38;5;124m\"\u001b[39m\u001b[38;5;124mir-benchmarks/tira-ir-starter/PyTerrierBM25\u001b[39m\u001b[38;5;124m\"\u001b[39m, dataset)\n",
      "File \u001b[0;32m/usr/local/lib/python3.10/dist-packages/pyterrier/datasets.py:1100\u001b[0m, in \u001b[0;36mget_dataset\u001b[0;34m(name, **kwargs)\u001b[0m\n\u001b[1;32m   1097\u001b[0m \u001b[38;5;28;01mif\u001b[39;00m name \u001b[38;5;129;01mnot\u001b[39;00m \u001b[38;5;129;01min\u001b[39;00m DATASET_MAP \u001b[38;5;129;01mand\u001b[39;00m name\u001b[38;5;241m.\u001b[39mstartswith(\u001b[38;5;124m'\u001b[39m\u001b[38;5;124mirds:\u001b[39m\u001b[38;5;124m'\u001b[39m):\n\u001b[1;32m   1098\u001b[0m     \u001b[38;5;66;03m# remove irds: prefix\u001b[39;00m\n\u001b[1;32m   1099\u001b[0m     ds_id \u001b[38;5;241m=\u001b[39m name[\u001b[38;5;28mlen\u001b[39m(\u001b[38;5;124m'\u001b[39m\u001b[38;5;124mirds:\u001b[39m\u001b[38;5;124m'\u001b[39m):]\n\u001b[0;32m-> 1100\u001b[0m     DATASET_MAP[name] \u001b[38;5;241m=\u001b[39m \u001b[43mIRDSDataset\u001b[49m\u001b[43m(\u001b[49m\u001b[43mds_id\u001b[49m\u001b[43m)\u001b[49m\n\u001b[1;32m   1101\u001b[0m rtr \u001b[38;5;241m=\u001b[39m DATASET_MAP[name]\n\u001b[1;32m   1102\u001b[0m rtr\u001b[38;5;241m.\u001b[39m_configure(\u001b[38;5;241m*\u001b[39m\u001b[38;5;241m*\u001b[39mkwargs)\n",
      "File \u001b[0;32m/usr/local/lib/python3.10/dist-packages/pyterrier/datasets.py:386\u001b[0m, in \u001b[0;36mIRDSDataset.__init__\u001b[0;34m(self, irds_id, defer_load)\u001b[0m\n\u001b[1;32m    384\u001b[0m \u001b[38;5;28;01mdef\u001b[39;00m \u001b[38;5;21m__init__\u001b[39m(\u001b[38;5;28mself\u001b[39m, irds_id, defer_load\u001b[38;5;241m=\u001b[39m\u001b[38;5;28;01mFalse\u001b[39;00m):\n\u001b[1;32m    385\u001b[0m     \u001b[38;5;28mself\u001b[39m\u001b[38;5;241m.\u001b[39m_irds_id \u001b[38;5;241m=\u001b[39m irds_id\n\u001b[0;32m--> 386\u001b[0m     \u001b[38;5;28mself\u001b[39m\u001b[38;5;241m.\u001b[39m_irds_ref \u001b[38;5;241m=\u001b[39m \u001b[38;5;28;01mNone\u001b[39;00m \u001b[38;5;28;01mif\u001b[39;00m defer_load \u001b[38;5;28;01melse\u001b[39;00m \u001b[43mir_datasets\u001b[49m\u001b[38;5;241;43m.\u001b[39;49m\u001b[43mload\u001b[49m\u001b[43m(\u001b[49m\u001b[38;5;28;43mself\u001b[39;49m\u001b[38;5;241;43m.\u001b[39;49m\u001b[43m_irds_id\u001b[49m\u001b[43m)\u001b[49m\n",
      "File \u001b[0;32m/usr/local/lib/python3.10/dist-packages/ir_datasets/__init__.py:22\u001b[0m, in \u001b[0;36mload\u001b[0;34m(name)\u001b[0m\n\u001b[1;32m     21\u001b[0m \u001b[38;5;28;01mdef\u001b[39;00m \u001b[38;5;21mload\u001b[39m(name):\n\u001b[0;32m---> 22\u001b[0m     \u001b[38;5;28;01mreturn\u001b[39;00m \u001b[43mregistry\u001b[49m\u001b[43m[\u001b[49m\u001b[43mname\u001b[49m\u001b[43m]\u001b[49m\n",
      "File \u001b[0;32m/usr/local/lib/python3.10/dist-packages/ir_datasets/util/registry.py:25\u001b[0m, in \u001b[0;36mRegistry.__getitem__\u001b[0;34m(self, key)\u001b[0m\n\u001b[1;32m     23\u001b[0m             \u001b[38;5;28mself\u001b[39m\u001b[38;5;241m.\u001b[39mregister(key, dataset)\n\u001b[1;32m     24\u001b[0m             \u001b[38;5;28;01mbreak\u001b[39;00m\n\u001b[0;32m---> 25\u001b[0m result \u001b[38;5;241m=\u001b[39m \u001b[38;5;28;43mself\u001b[39;49m\u001b[38;5;241;43m.\u001b[39;49m\u001b[43m_registered\u001b[49m\u001b[43m[\u001b[49m\u001b[43mkey\u001b[49m\u001b[43m]\u001b[49m\n\u001b[1;32m     26\u001b[0m \u001b[38;5;28;01mif\u001b[39;00m \u001b[38;5;28mhasattr\u001b[39m(result, \u001b[38;5;124m'\u001b[39m\u001b[38;5;124mdeprecated\u001b[39m\u001b[38;5;124m'\u001b[39m):\n\u001b[1;32m     27\u001b[0m     \u001b[38;5;28;01mif\u001b[39;00m os\u001b[38;5;241m.\u001b[39menviron\u001b[38;5;241m.\u001b[39mget(\u001b[38;5;124m'\u001b[39m\u001b[38;5;124mIR_DATASETS_SKIP_DEPRECATED_WARNING\u001b[39m\u001b[38;5;124m'\u001b[39m, \u001b[38;5;124m'\u001b[39m\u001b[38;5;124m'\u001b[39m)\u001b[38;5;241m.\u001b[39mlower() \u001b[38;5;241m!=\u001b[39m \u001b[38;5;124m'\u001b[39m\u001b[38;5;124mtrue\u001b[39m\u001b[38;5;124m'\u001b[39m:\n",
      "\u001b[0;31mKeyError\u001b[0m: 'ir-lab-sose-2024/ir-acl-anthology-20240504-training'"
     ]
    }
   ],
   "source": [
    "from tira.local_client import Client\n",
    "import pyterrier as pt\n",
    "import pandas as pd\n",
    "\n",
    "if not pt.started():\n",
    "  pt.init()\n",
    "\n",
    "tira = Client()\n",
    "dataset = 'irds:ir-lab-sose-2024/ir-acl-anthology-20240504-training'\n",
    "pt_dataset = pt.get_dataset(dataset)\n",
    "\n",
    "extractor = tira.pt.transform_documents('https://aclanthology.org/2023.findings-acl.581/', dataset)\n",
    "bm25 = tira.pt.from_retriever_submission(\"ir-benchmarks/tira-ir-starter/PyTerrierBM25\", dataset)\n",
    "bm25_score = pt.text.scorer(takes=\"docs\", body_attr=\"text\", wmodel=\"BM25\")\n",
    "bm25_retrieval = bm25 >> bm25_score"
   ]
  },
  {
   "cell_type": "code",
   "execution_count": null,
   "metadata": {},
   "outputs": [],
   "source": [
    "dev_topics = pt_dataset.get_topics()\n",
    "dev_topics = dev_topics[dev_topics['qid'].astype(int) <= 305]\n",
    "dev_topics"
   ]
  }
 ],
 "metadata": {
  "kernelspec": {
   "display_name": "Python 3",
   "language": "python",
   "name": "python3"
  },
  "language_info": {
   "codemirror_mode": {
    "name": "ipython",
    "version": 3
   },
   "file_extension": ".py",
   "mimetype": "text/x-python",
   "name": "python",
   "nbconvert_exporter": "python",
   "pygments_lexer": "ipython3",
   "version": "3.10.12"
  }
 },
 "nbformat": 4,
 "nbformat_minor": 2
}
