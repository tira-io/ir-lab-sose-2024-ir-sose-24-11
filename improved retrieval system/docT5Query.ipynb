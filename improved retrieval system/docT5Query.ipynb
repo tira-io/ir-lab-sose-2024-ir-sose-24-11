{
 "cells": [
  {
   "cell_type": "code",
   "execution_count": 66,
   "metadata": {},
   "outputs": [],
   "source": [
    "# Imports\n",
    "from tira.third_party_integrations import ensure_pyterrier_is_loaded, persist_and_normalize_run\n",
    "from tira.rest_api_client import Client\n",
    "ensure_pyterrier_is_loaded()\n",
    "import pandas as pd\n",
    "import pyterrier as pt\n",
    "from tqdm import tqdm\n",
    "import gzip\n",
    "import json\n",
    "\n"
   ]
  },
  {
   "cell_type": "code",
   "execution_count": 67,
   "metadata": {},
   "outputs": [],
   "source": [
    "# Initialize TIRA client\n",
    "tira = Client()"
   ]
  },
  {
   "cell_type": "code",
   "execution_count": 68,
   "metadata": {},
   "outputs": [],
   "source": [
    "# Dataset setup\n",
    "\n",
    "# The dataset: the union of the IR Anthology and the ACL Anthology\n",
    "# This line creates an IRDSDataset object and registers it under the name provided as an argument.\n",
    "#pt_dataset = pt.get_dataset('irds:ir-lab-sose-2024/ir-acl-anthology-20240504-training')\n",
    "# A (pre-built) PyTerrier index loaded from TIRA\n",
    "#index = tira.pt.index('ir-lab-sose-2024/tira-ir-starter/Index (tira-ir-starter-pyterrier)', pt_dataset)\n",
    "dataset = 'ir-acl-anthology-20240504-training'\n",
    "pt_dataset = pt.get_dataset(f'irds:ir-lab-sose-2024/{dataset}')\n",
    "# Load index from TIRA\n",
    "index = tira.pt.index('ir-lab-sose-2024/tira-ir-starter/Index (tira-ir-starter-pyterrier)', pt_dataset)\n",
    "\n",
    "# Retrieve topics from the dataset\n",
    "topics=pt_dataset.get_topics('text')\n",
    "#dataset2 = 'antique-test-20230107-training'\n",
    "#pt_dataset2 = pt.get_dataset(f'irds:ir-benchmarks/{dataset2}')\n",
    "#topics=pt_dataset2.get_topics('text')\n"
   ]
  },
  {
   "cell_type": "code",
   "execution_count": 69,
   "metadata": {},
   "outputs": [],
   "source": [
    "# Directly initialize BM25 model using PyTerrier\n",
    "bm25 = pt.BatchRetrieve(index, wmodel=\"BM25\")"
   ]
  },
  {
   "cell_type": "code",
   "execution_count": 70,
   "metadata": {},
   "outputs": [],
   "source": [
    "# Define function to read DocT5Query expanded documents\n",
    "def doc_t5_query(pt_dataset):\n",
    "    docs = tira.get_run_output('ir-benchmarks/seanmacavaney/DocT5Query', pt_dataset) + '/documents.jsonl.gz'\n",
    "    with gzip.open(docs, 'rt') as f:\n",
    "        for l in tqdm(f):\n",
    "            l = json.loads(l)\n",
    "            l['text'] = l['querygen']\n",
    "            l['docno'] = l['doc_id']\n",
    "            del l['doc_id']\n",
    "            del l['querygen']\n",
    "            yield l\n",
    "\n",
    "\n",
    "# Define function to create index from DocT5Query expanded documents\n",
    "def doc_t5_query_index(pt_dataset):\n",
    "    indexer = pt.IterDictIndexer(\"/tmp/index2\", overwrite=True, meta={'docno': 100, 'text': 20480})\n",
    "    index_ref = indexer.index(doc_t5_query(pt_dataset))\n",
    "    return pt.IndexFactory.of(index_ref)\n",
    "\n",
    "# Create index from expanded documents\n",
    "#index = doc_t5_query_index(dataset)"
   ]
  },
  {
   "cell_type": "code",
   "execution_count": 71,
   "metadata": {},
   "outputs": [],
   "source": [
    "\n",
    "index = pt.IndexFactory.of('/tmp/index2')"
   ]
  },
  {
   "cell_type": "code",
   "execution_count": 72,
   "metadata": {},
   "outputs": [
    {
     "name": "stderr",
     "output_type": "stream",
     "text": [
      "66283it [00:02, 23996.43it/s]\n"
     ]
    }
   ],
   "source": [
    "#Retrieve documents using BM25 model\n",
    "docs_retrieved_by_bm25 = {}\n",
    "bm25_result = bm25(pt_dataset.get_topics('title'))\n",
    "\n",
    "for _, i in tqdm(bm25_result.iterrows()):\n",
    "    qid, docno = str(i['qid']), str(i['docno'])\n",
    "\n",
    "    if qid not in docs_retrieved_by_bm25:\n",
    "        docs_retrieved_by_bm25[qid] = set()\n",
    "    \n",
    "    docs_retrieved_by_bm25[qid].add(docno)"
   ]
  },
  {
   "cell_type": "code",
   "execution_count": 73,
   "metadata": {},
   "outputs": [],
   "source": [
    "# Define lambda function to omit already retrieved documents\n",
    "omit_already_retrieved_docs = lambda i: i[i.apply(lambda j: str(j['docno']) not in docs_retrieved_by_bm25[str(j['qid'])], axis=1)]\n",
    "omit_already_retrieved_docs = pt.apply.generic(omit_already_retrieved_docs)"
   ]
  },
  {
   "cell_type": "code",
   "execution_count": 74,
   "metadata": {},
   "outputs": [],
   "source": [
    "# Create BM25 model for DocT5Query index and apply omission filter\n",
    "bm25_doct5query = pt.BatchRetrieve(index, wmodel=\"BM25\")\n",
    "bm25_doct5query_new = bm25_doct5query >> omit_already_retrieved_docs"
   ]
  },
  {
   "cell_type": "code",
   "execution_count": 75,
   "metadata": {},
   "outputs": [
    {
     "name": "stdout",
     "output_type": "stream",
     "text": [
      "Create run\n",
      "Done, run was created\n"
     ]
    }
   ],
   "source": [
    "# Create and run the retrieval\n",
    "\n",
    "print('Create run')\n",
    "run = bm25_doct5query(topics)\n",
    "print('Done, run was created')\n"
   ]
  },
  {
   "cell_type": "code",
   "execution_count": 76,
   "metadata": {},
   "outputs": [
    {
     "name": "stdout",
     "output_type": "stream",
     "text": [
      "The run file is normalized outside the TIRA sandbox, I will store it at \"../runs\".\n",
      "Done. run file is stored under \"../runs/run.txt\".\n",
      "   qid   docid      docno  rank      score  \\\n",
      "0    1   55753  1883395_0     0  19.780018   \n",
      "1    1   59013  2915275_2     1  19.766216   \n",
      "2    1   79345  4202345_0     2  19.766216   \n",
      "3    1  136866  1254685_1     3  19.766216   \n",
      "4    1  287157  3080874_4     4  19.766216   \n",
      "\n",
      "                                      query        system  \n",
      "0  retrieval system improving effectiveness  doc_T5_Query  \n",
      "1  retrieval system improving effectiveness  doc_T5_Query  \n",
      "2  retrieval system improving effectiveness  doc_T5_Query  \n",
      "3  retrieval system improving effectiveness  doc_T5_Query  \n",
      "4  retrieval system improving effectiveness  doc_T5_Query  \n"
     ]
    }
   ],
   "source": [
    "# Persist and normalize the run\n",
    "persist_and_normalize_run(run, system_name = 'doc_T5_Query', default_output='../runs')\n",
    "\n",
    "# Diagnostic: Check the first few rows of the run\n",
    "print(run.head())"
   ]
  },
  {
   "cell_type": "code",
   "execution_count": null,
   "metadata": {},
   "outputs": [],
   "source": []
  }
 ],
 "metadata": {
  "kernelspec": {
   "display_name": "Python 3",
   "language": "python",
   "name": "python3"
  },
  "language_info": {
   "codemirror_mode": {
    "name": "ipython",
    "version": 3
   },
   "file_extension": ".py",
   "mimetype": "text/x-python",
   "name": "python",
   "nbconvert_exporter": "python",
   "pygments_lexer": "ipython3",
   "version": "3.10.12"
  }
 },
 "nbformat": 4,
 "nbformat_minor": 2
}
