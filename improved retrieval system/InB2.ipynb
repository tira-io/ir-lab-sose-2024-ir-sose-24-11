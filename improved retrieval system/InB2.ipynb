{
 "cells": [
  {
   "cell_type": "markdown",
   "metadata": {},
   "source": [
    "# InB2 Improvement"
   ]
  },
  {
   "cell_type": "markdown",
   "metadata": {},
   "source": [
    "## Step 1: Import libraries\n",
    "\n",
    " No additional libraries apart from the baselines.\n",
    " Ensure pyterrier is loaded, confirm the pt is initialized.\n",
    " Persist and normalize run, further writing of the result in out txt."
   ]
  },
  {
   "cell_type": "code",
   "execution_count": 1,
   "metadata": {},
   "outputs": [],
   "source": [
    "from tira.third_party_integrations import ensure_pyterrier_is_loaded, persist_and_normalize_run\n",
    "from tira.rest_api_client import Client\n",
    "import pyterrier as pt"
   ]
  },
  {
   "cell_type": "code",
   "execution_count": 2,
   "metadata": {},
   "outputs": [
    {
     "name": "stderr",
     "output_type": "stream",
     "text": [
      "PyTerrier 0.10.0 has loaded Terrier 5.8 (built by craigm on 2023-11-01 18:05) and terrier-helper 0.0.8\n",
      "\n",
      "No etc/terrier.properties, using terrier.default.properties for bootstrap configuration.\n"
     ]
    }
   ],
   "source": [
    "# Ensure PyTerrier is loaded\n",
    "ensure_pyterrier_is_loaded()\n",
    "\n",
    "# Initialize the TIRA client\n",
    "tira = Client()"
   ]
  },
  {
   "cell_type": "markdown",
   "metadata": {},
   "source": [
    "# Step 2: Load the data and create the index \n",
    "Index already built in PT format from TIRA)\n",
    "We will be using the IR and ACL anthology"
   ]
  },
  {
   "cell_type": "code",
   "execution_count": 3,
   "metadata": {},
   "outputs": [],
   "source": [
    "# Load the IR Anthology and ACL Anthology dataset\n",
    "pt_dataset = pt.get_dataset('irds:ir-lab-sose-2024/ir-acl-anthology-20240504-training')\n",
    "\n",
    "# Load the pre-built PyTerrier index from TIRA\n",
    "index = tira.pt.index('ir-lab-sose-2024/tira-ir-starter/Index (tira-ir-starter-pyterrier)', pt_dataset)"
   ]
  },
  {
   "cell_type": "markdown",
   "metadata": {},
   "source": [
    "# Step 3: Define the Retrieval Pipeline\n",
    "\n",
    "We are using the retrieval model InB2\n",
    "[Class details](http://terrier.org/docs/v4.1/javadoc/org/terrier/matching/models/InB2.html)"
   ]
  },
  {
   "cell_type": "code",
   "execution_count": 4,
   "metadata": {},
   "outputs": [],
   "source": [
    "# Define the InB2 retrieval pipeline\n",
    "inb2 = pt.BatchRetrieve(index, wmodel=\"InB2\")"
   ]
  },
  {
   "cell_type": "code",
   "execution_count": 5,
   "metadata": {},
   "outputs": [
    {
     "name": "stdout",
     "output_type": "stream",
     "text": [
      "First, we have a short look at the first three topics:\n",
      "  qid                                     query\n",
      "0   1  retrieval system improving effectiveness\n",
      "1   2  machine learning language identification\n",
      "2   3             social media detect self harm\n"
     ]
    }
   ],
   "source": [
    "# Preview the first three topics\n",
    "print('First, we have a short look at the first three topics:')\n",
    "print(pt_dataset.get_topics('text').head(3))"
   ]
  },
  {
   "cell_type": "markdown",
   "metadata": {},
   "source": [
    "# Step 4: Create the run"
   ]
  },
  {
   "cell_type": "code",
   "execution_count": 6,
   "metadata": {},
   "outputs": [
    {
     "name": "stdout",
     "output_type": "stream",
     "text": [
      "Now we do the retrieval with InB2...\n"
     ]
    }
   ],
   "source": [
    "# Perform the retrieval using InB2\n",
    "print('Now we do the retrieval with InB2...')\n",
    "run_inb2 = inb2(pt_dataset.get_topics('text'))"
   ]
  },
  {
   "cell_type": "code",
   "execution_count": 7,
   "metadata": {},
   "outputs": [
    {
     "name": "stdout",
     "output_type": "stream",
     "text": [
      "Done. Here are the first 10 entries of the InB2 run:\n",
      "  qid   docid                               docno  rank      score  \\\n",
      "0   1   94858        2004.cikm_conference-2004.47     0  14.131396   \n",
      "1   1  125137   1989.ipm_journal-ir0volumeA25A4.2     1  13.910089   \n",
      "2   1   94415       2008.cikm_conference-2008.183     2  12.828211   \n",
      "3   1   82490     1998.sigirconf_conference-98.33     3  12.761525   \n",
      "4   1  125817  2005.ipm_journal-ir0volumeA41A5.11     4  12.722657   \n",
      "5   1  125153   2008.ipm_journal-ir0volumeA44A3.9     5  12.663065   \n",
      "6   1   82472     1998.sigirconf_conference-98.15     6  12.555249   \n",
      "7   1   84876       2016.ntcir_conference-2016.90     7  12.546686   \n",
      "8   1  111300        2005.trec_conference-2005.26     8  12.387169   \n",
      "9   1  124801   2006.ipm_journal-ir0volumeA42A3.2     9  12.375590   \n",
      "\n",
      "                                      query  \n",
      "0  retrieval system improving effectiveness  \n",
      "1  retrieval system improving effectiveness  \n",
      "2  retrieval system improving effectiveness  \n",
      "3  retrieval system improving effectiveness  \n",
      "4  retrieval system improving effectiveness  \n",
      "5  retrieval system improving effectiveness  \n",
      "6  retrieval system improving effectiveness  \n",
      "7  retrieval system improving effectiveness  \n",
      "8  retrieval system improving effectiveness  \n",
      "9  retrieval system improving effectiveness  \n"
     ]
    }
   ],
   "source": [
    "# Display the first 10 entries of the InB2 run\n",
    "print('Done. Here are the first 10 entries of the InB2 run:')\n",
    "print(run_inb2.head(10))"
   ]
  },
  {
   "cell_type": "markdown",
   "metadata": {},
   "source": [
    "# Step 5: Persist the run file for subsequent evaluations"
   ]
  },
  {
   "cell_type": "code",
   "execution_count": 8,
   "metadata": {},
   "outputs": [
    {
     "name": "stdout",
     "output_type": "stream",
     "text": [
      "The run file is normalized outside the TIRA sandbox, I will store it at \"../runs\".\n",
      "Done. run file is stored under \"../runs/run.txt\".\n"
     ]
    }
   ],
   "source": [
    "#Now we add the result to our run.txt\n",
    "persist_and_normalize_run(run_inb2, system_name='In_B2', default_output='../runs')"
   ]
  }
 ],
 "metadata": {
  "kernelspec": {
   "display_name": "Python 3",
   "language": "python",
   "name": "python3"
  },
  "language_info": {
   "codemirror_mode": {
    "name": "ipython",
    "version": 3
   },
   "file_extension": ".py",
   "mimetype": "text/x-python",
   "name": "python",
   "nbconvert_exporter": "python",
   "pygments_lexer": "ipython3",
   "version": "3.10.12"
  }
 },
 "nbformat": 4,
 "nbformat_minor": 2
}
