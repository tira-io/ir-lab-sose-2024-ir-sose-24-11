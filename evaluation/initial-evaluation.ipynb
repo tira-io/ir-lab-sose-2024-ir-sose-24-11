{
 "cells": [
  {
   "cell_type": "code",
   "execution_count": 33,
   "metadata": {},
   "outputs": [],
   "source": [
    "# Imports\n",
    "from tira.third_party_integrations import ensure_pyterrier_is_loaded, persist_and_normalize_run\n",
    "from tira.rest_api_client import Client\n",
    "import pyterrier as pt"
   ]
  },
  {
   "cell_type": "code",
   "execution_count": 34,
   "metadata": {},
   "outputs": [],
   "source": [
    "# Create a REST client to the TIRA platform for retrieving the pre-indexed data.\n",
    "ensure_pyterrier_is_loaded()\n",
    "tira = Client()"
   ]
  },
  {
   "cell_type": "code",
   "execution_count": 35,
   "metadata": {},
   "outputs": [],
   "source": [
    "# The dataset: the union of the IR Anthology and the ACL Anthology\n",
    "# This line creates an IRDSDataset object and registers it under the name provided as an argument.\n",
    "pt_dataset = pt.get_dataset('irds:ir-lab-sose-2024/ir-acl-anthology-20240504-training')\n",
    "qrels = pt_dataset.get_qrels()\n"
   ]
  },
  {
   "cell_type": "code",
   "execution_count": 36,
   "metadata": {},
   "outputs": [],
   "source": [
    "# Some baselines that were executed in TIRA\n",
    "bm25_baseline = tira.pt.from_submission('ir-benchmarks/tira-ir-starter/BM25 (tira-ir-starter-pyterrier)', pt_dataset)\n",
    "sparse_cross_encoder = tira.pt.from_submission('ir-benchmarks/fschlatt/sparse-cross-encoder-4-512', pt_dataset)\n",
    "rank_zephyr = tira.pt.from_submission('workshop-on-open-web-search/fschlatt/rank-zephyr', pt_dataset)"
   ]
  },
  {
   "cell_type": "code",
   "execution_count": 37,
   "metadata": {},
   "outputs": [
    {
     "name": "stdout",
     "output_type": "stream",
     "text": [
      "There are multiple query fields available: ('text', 'title', 'query', 'description', 'narrative'). To use with pyterrier, provide variant or modify dataframe to add query column.\n",
      "                   name  ndcg_cut.10  recip_rank  recall_100\n",
      "0      BM 25 (Improved)     0.000000    0.000000    0.000000\n",
      "1      BM 25 (Baseline)     0.374041    0.579877    0.601333\n",
      "2  Sparse Cross Encoder     0.366460    0.612980    0.601333\n",
      "3            RankZephyr     0.347070    0.568413    0.601333\n"
     ]
    }
   ],
   "source": [
    "# This assumes we have execited the ../baseline-retrieval-system/baseline-retrieval-system.ipynb notebook before.\n",
    "#run_file_path = '../runs/run.txt'\n",
    "\n",
    "#try:\n",
    "\n",
    "  #  bm25_improved = pt.io.read_results('../runs/run.txt')\n",
    "   # print(\"Run file loaded successfully.\")\n",
    "\n",
    "#except Exception as e:\n",
    " #   print(f\"Error loading run file: {e}\")\n",
    "\n",
    "#print(bm25_improved.head())\n",
    "\n",
    "#dataset_topics = dataset.get_topics()\n",
    "#run_topic_ids = set(bm25_improved['qid'].unique())\n",
    "#dataset_topic_ids = set(dataset_topics['qid'].unique())\n",
    "\n",
    "#missing_topics = run_topic_ids - dataset_topic_ids\n",
    "#if missing_topics:\n",
    " #   print(f\"Warning: The following topic IDs are in the run file but not in the dataset: {missing_topics}\")\n",
    "    \n",
    "# Ensure document IDs in the run file match those in the qrels\n",
    "#qrels = dataset.get_qrels()\n",
    "#run_doc_ids = set(bm25_improved['docno'].unique())\n",
    "#qrels_doc_ids = set(qrels['docno'].unique())\n",
    "\n",
    "#missing_docs = run_doc_ids - qrels_doc_ids\n",
    "#if missing_docs:\n",
    " #   print(f\"Warning: The following document IDs are in the run file but not in the qrels: {missing_docs}\")    \n",
    "\n",
    "\n",
    "\n",
    "\n",
    "bm25_improved = pt.io.read_results('../runs/run.txt')\n",
    "\n",
    "# Define query field to use\n",
    "query_field = 'text'  # Adjust based on your specific query field\n",
    "\n",
    "# Evaluate models\n",
    "eval_metrics = [\"ndcg_cut.10\", \"recip_rank\", \"recall_100\"]\n",
    "evaluation = pt.Experiment(\n",
    "    [bm25_improved, bm25_baseline, sparse_cross_encoder, rank_zephyr],\n",
    "    pt_dataset.get_topics(),\n",
    "    pt_dataset.get_qrels(),\n",
    "    [\"ndcg_cut.10\", \"recip_rank\", \"recall_100\"],\n",
    "    names=[\"BM 25 (Improved)\", \"BM 25 (Baseline)\", \"Sparse Cross Encoder\", \"RankZephyr\"]\n",
    ")\n",
    "\n",
    "print(evaluation)"
   ]
  },
  {
   "cell_type": "code",
   "execution_count": null,
   "metadata": {},
   "outputs": [],
   "source": []
  }
 ],
 "metadata": {
  "kernelspec": {
   "display_name": "Python 3",
   "language": "python",
   "name": "python3"
  },
  "language_info": {
   "codemirror_mode": {
    "name": "ipython",
    "version": 3
   },
   "file_extension": ".py",
   "mimetype": "text/x-python",
   "name": "python",
   "nbconvert_exporter": "python",
   "pygments_lexer": "ipython3",
   "version": "3.10.12"
  }
 },
 "nbformat": 4,
 "nbformat_minor": 2
}
