{
 "cells": [
  {
   "cell_type": "markdown",
   "metadata": {},
   "source": [
    "## Imports"
   ]
  },
  {
   "cell_type": "code",
   "execution_count": 1,
   "metadata": {},
   "outputs": [],
   "source": [
    "from tira.third_party_integrations import ensure_pyterrier_is_loaded, persist_and_normalize_run\n",
    "from tira.rest_api_client import Client\n",
    "import pyterrier as pt"
   ]
  },
  {
   "cell_type": "markdown",
   "metadata": {},
   "source": [
    "## Create a REST client to the TIRA platform for retrieving the pre-indexed data."
   ]
  },
  {
   "cell_type": "code",
   "execution_count": 2,
   "metadata": {},
   "outputs": [
    {
     "name": "stderr",
     "output_type": "stream",
     "text": [
      "PyTerrier 0.10.0 has loaded Terrier 5.8 (built by craigm on 2023-11-01 18:05) and terrier-helper 0.0.8\n",
      "\n",
      "No etc/terrier.properties, using terrier.default.properties for bootstrap configuration.\n"
     ]
    }
   ],
   "source": [
    "ensure_pyterrier_is_loaded()\n",
    "tira = Client()"
   ]
  },
  {
   "cell_type": "markdown",
   "metadata": {},
   "source": [
    "## The dataset: the union of the IR Anthology and the ACL Anthology\n",
    "This line creates an IRDSDataset object and registers it under the name provided as an argument."
   ]
  },
  {
   "cell_type": "code",
   "execution_count": 3,
   "metadata": {},
   "outputs": [],
   "source": [
    "pt_dataset = pt.get_dataset('irds:ir-lab-sose-2024/ir-acl-anthology-20240504-training')\n",
    "qrels = pt_dataset.get_qrels()\n"
   ]
  },
  {
   "cell_type": "markdown",
   "metadata": {},
   "source": [
    "# Some baselines that were executed in TIRA"
   ]
  },
  {
   "cell_type": "code",
   "execution_count": 4,
   "metadata": {},
   "outputs": [],
   "source": [
    "bm25_baseline = tira.pt.from_submission('ir-benchmarks/tira-ir-starter/BM25 (tira-ir-starter-pyterrier)', pt_dataset)\n",
    "sparse_cross_encoder = tira.pt.from_submission('ir-benchmarks/fschlatt/sparse-cross-encoder-4-512', pt_dataset)\n",
    "rank_zephyr = tira.pt.from_submission('workshop-on-open-web-search/fschlatt/rank-zephyr', pt_dataset)"
   ]
  },
  {
   "cell_type": "markdown",
   "metadata": {},
   "source": [
    "## Run File"
   ]
  },
  {
   "cell_type": "code",
   "execution_count": 5,
   "metadata": {},
   "outputs": [
    {
     "name": "stdout",
     "output_type": "stream",
     "text": [
      "There are multiple query fields available: ('text', 'title', 'query', 'description', 'narrative'). To use with pyterrier, provide variant or modify dataframe to add query column.\n",
      "                   name  ndcg_cut.10  recip_rank  recall_100\n",
      "0           BM25 (InB2)     0.381232    0.584664    0.576814\n",
      "1      BM 25 (Baseline)     0.374041    0.579877    0.601333\n",
      "2  Sparse Cross Encoder     0.366460    0.612980    0.601333\n",
      "3            RankZephyr     0.347070    0.568413    0.601333\n"
     ]
    }
   ],
   "source": [
    "run_file_path = '../runs/run.txt'\n",
    "\n",
    "#try:\n",
    "\n",
    "  #  bm25_improved = pt.io.read_results('../runs/run.txt')\n",
    "   # print(\"Run file loaded successfully.\")\n",
    "\n",
    "#except Exception as e:\n",
    " #   print(f\"Error loading run file: {e}\")\n",
    "\n",
    "#print(bm25_improved.head())\n",
    "\n",
    "#dataset_topics = dataset.get_topics()\n",
    "#run_topic_ids = set(bm25_improved['qid'].unique())\n",
    "#dataset_topic_ids = set(dataset_topics['qid'].unique())\n",
    "\n",
    "#missing_topics = run_topic_ids - dataset_topic_ids\n",
    "#if missing_topics:\n",
    " #   print(f\"Warning: The following topic IDs are in the run file but not in the dataset: {missing_topics}\")\n",
    "    \n",
    "# Ensure document IDs in the run file match those in the qrels\n",
    "#qrels = dataset.get_qrels()\n",
    "#run_doc_ids = set(bm25_improved['docno'].unique())\n",
    "#qrels_doc_ids = set(qrels['docno'].unique())\n",
    "\n",
    "#missing_docs = run_doc_ids - qrels_doc_ids\n",
    "#if missing_docs:\n",
    " #   print(f\"Warning: The following document IDs are in the run file but not in the qrels: {missing_docs}\")    \n",
    "\n",
    "\n",
    "improved = pt.io.read_results('../runs/run.txt')\n",
    "\n",
    "# Define query field to use\n",
    "query_field = 'text'  # Adjust based on your specific query field\n",
    "\n",
    "# Evaluate models\n",
    "eval_metrics = [\"ndcg_cut.10\", \"recip_rank\", \"recall_100\"]\n",
    "evaluation = pt.Experiment(\n",
    "    [improved, bm25_baseline, sparse_cross_encoder, rank_zephyr],\n",
    "    pt_dataset.get_topics(),\n",
    "    pt_dataset.get_qrels(),\n",
    "    [\"ndcg_cut.10\", \"recip_rank\", \"recall_100\"],\n",
    "    names=[\"BM25 (InB2)\", \"BM 25 (Baseline)\", \"Sparse Cross Encoder\", \"RankZephyr\"]\n",
    ")\n",
    "\n",
    "print(evaluation)"
   ]
  },
  {
   "cell_type": "code",
   "execution_count": null,
   "metadata": {},
   "outputs": [],
   "source": []
  }
 ],
 "metadata": {
  "kernelspec": {
   "display_name": "Python 3",
   "language": "python",
   "name": "python3"
  },
  "language_info": {
   "codemirror_mode": {
    "name": "ipython",
    "version": 3
   },
   "file_extension": ".py",
   "mimetype": "text/x-python",
   "name": "python",
   "nbconvert_exporter": "python",
   "pygments_lexer": "ipython3",
   "version": "3.10.12"
  }
 },
 "nbformat": 4,
 "nbformat_minor": 2
}
